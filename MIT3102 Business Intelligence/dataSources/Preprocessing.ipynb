{
 "cells": [
  {
   "cell_type": "code",
   "execution_count": 1,
   "metadata": {},
   "outputs": [],
   "source": [
    "import numpy as np\n",
    "import pandas as pd"
   ]
  },
  {
   "cell_type": "code",
   "execution_count": 2,
   "metadata": {},
   "outputs": [],
   "source": [
    "df_raw = pd.read_csv('train_revised.csv', low_memory=False)"
   ]
  },
  {
   "cell_type": "code",
   "execution_count": 3,
   "metadata": {},
   "outputs": [
    {
     "data": {
      "text/html": [
       "<div>\n",
       "<style scoped>\n",
       "    .dataframe tbody tr th:only-of-type {\n",
       "        vertical-align: middle;\n",
       "    }\n",
       "\n",
       "    .dataframe tbody tr th {\n",
       "        vertical-align: top;\n",
       "    }\n",
       "\n",
       "    .dataframe thead th {\n",
       "        text-align: right;\n",
       "    }\n",
       "</style>\n",
       "<table border=\"1\" class=\"dataframe\">\n",
       "  <thead>\n",
       "    <tr style=\"text-align: right;\">\n",
       "      <th></th>\n",
       "      <th>ride_id</th>\n",
       "      <th>seat_number</th>\n",
       "      <th>payment_method</th>\n",
       "      <th>payment_receipt</th>\n",
       "      <th>travel_date</th>\n",
       "      <th>travel_time</th>\n",
       "      <th>travel_from</th>\n",
       "      <th>travel_to</th>\n",
       "      <th>car_type</th>\n",
       "      <th>max_capacity</th>\n",
       "    </tr>\n",
       "  </thead>\n",
       "  <tbody>\n",
       "    <tr>\n",
       "      <th>0</th>\n",
       "      <td>1442</td>\n",
       "      <td>15A</td>\n",
       "      <td>Mpesa</td>\n",
       "      <td>UZUEHCBUSO</td>\n",
       "      <td>17-10-17</td>\n",
       "      <td>7:15</td>\n",
       "      <td>Migori</td>\n",
       "      <td>Nairobi</td>\n",
       "      <td>Bus</td>\n",
       "      <td>49</td>\n",
       "    </tr>\n",
       "    <tr>\n",
       "      <th>1</th>\n",
       "      <td>5437</td>\n",
       "      <td>14A</td>\n",
       "      <td>Mpesa</td>\n",
       "      <td>TIHLBUSGTE</td>\n",
       "      <td>19-11-17</td>\n",
       "      <td>7:12</td>\n",
       "      <td>Migori</td>\n",
       "      <td>Nairobi</td>\n",
       "      <td>Bus</td>\n",
       "      <td>49</td>\n",
       "    </tr>\n",
       "    <tr>\n",
       "      <th>2</th>\n",
       "      <td>5710</td>\n",
       "      <td>8B</td>\n",
       "      <td>Mpesa</td>\n",
       "      <td>EQX8Q5G19O</td>\n",
       "      <td>26-11-17</td>\n",
       "      <td>7:05</td>\n",
       "      <td>Keroka</td>\n",
       "      <td>Nairobi</td>\n",
       "      <td>Bus</td>\n",
       "      <td>49</td>\n",
       "    </tr>\n",
       "    <tr>\n",
       "      <th>3</th>\n",
       "      <td>5777</td>\n",
       "      <td>19A</td>\n",
       "      <td>Mpesa</td>\n",
       "      <td>SGP18CL0ME</td>\n",
       "      <td>27-11-17</td>\n",
       "      <td>7:10</td>\n",
       "      <td>Homa Bay</td>\n",
       "      <td>Nairobi</td>\n",
       "      <td>Bus</td>\n",
       "      <td>49</td>\n",
       "    </tr>\n",
       "    <tr>\n",
       "      <th>4</th>\n",
       "      <td>5778</td>\n",
       "      <td>11A</td>\n",
       "      <td>Mpesa</td>\n",
       "      <td>BM97HFRGL9</td>\n",
       "      <td>27-11-17</td>\n",
       "      <td>7:12</td>\n",
       "      <td>Migori</td>\n",
       "      <td>Nairobi</td>\n",
       "      <td>Bus</td>\n",
       "      <td>49</td>\n",
       "    </tr>\n",
       "  </tbody>\n",
       "</table>\n",
       "</div>"
      ],
      "text/plain": [
       "   ride_id seat_number payment_method payment_receipt travel_date travel_time  \\\n",
       "0     1442         15A          Mpesa      UZUEHCBUSO    17-10-17        7:15   \n",
       "1     5437         14A          Mpesa      TIHLBUSGTE    19-11-17        7:12   \n",
       "2     5710          8B          Mpesa      EQX8Q5G19O    26-11-17        7:05   \n",
       "3     5777         19A          Mpesa      SGP18CL0ME    27-11-17        7:10   \n",
       "4     5778         11A          Mpesa      BM97HFRGL9    27-11-17        7:12   \n",
       "\n",
       "  travel_from travel_to car_type  max_capacity  \n",
       "0      Migori   Nairobi      Bus            49  \n",
       "1      Migori   Nairobi      Bus            49  \n",
       "2      Keroka   Nairobi      Bus            49  \n",
       "3    Homa Bay   Nairobi      Bus            49  \n",
       "4      Migori   Nairobi      Bus            49  "
      ]
     },
     "execution_count": 3,
     "metadata": {},
     "output_type": "execute_result"
    }
   ],
   "source": [
    "df_raw.head()"
   ]
  },
  {
   "cell_type": "markdown",
   "metadata": {},
   "source": [
    "Original train_revised.csv consists of a list of tickets. We need to aggregate them to know how many passengers are for a given ride_id"
   ]
  },
  {
   "cell_type": "code",
   "execution_count": 4,
   "metadata": {},
   "outputs": [],
   "source": [
    "ride_id_dict = {} \n",
    "for ride_id in df_raw[\"ride_id\"]:\n",
    "    if not ride_id in ride_id_dict:\n",
    "        ride_id_dict[ride_id] = 1\n",
    "    else:\n",
    "        ride_id_dict[ride_id] += 1 "
   ]
  },
  {
   "cell_type": "code",
   "execution_count": 5,
   "metadata": {},
   "outputs": [],
   "source": [
    "df_processed = df_raw.drop(['seat_number', 'payment_method', 'payment_receipt', 'travel_to'], axis=1)"
   ]
  },
  {
   "cell_type": "code",
   "execution_count": 6,
   "metadata": {
    "scrolled": false
   },
   "outputs": [],
   "source": [
    "df_processed.drop_duplicates(inplace=True)\n",
    "df_processed.reset_index(drop= True, inplace=True)"
   ]
  },
  {
   "cell_type": "code",
   "execution_count": 7,
   "metadata": {},
   "outputs": [],
   "source": [
    "df_processed[\"number_of_tickets\"]= np.zeros(len(df_processed))"
   ]
  },
  {
   "cell_type": "markdown",
   "metadata": {},
   "source": [
    "Let's update a number of tickets for a given ride."
   ]
  },
  {
   "cell_type": "code",
   "execution_count": 8,
   "metadata": {},
   "outputs": [],
   "source": [
    "for i in range(len(df_processed)):\n",
    "    ride_id = df_processed.loc[i][\"ride_id\"]\n",
    "    df_processed.at[i,\"number_of_tickets\"] = ride_id_dict[ride_id]"
   ]
  },
  {
   "cell_type": "code",
   "execution_count": 9,
   "metadata": {},
   "outputs": [
    {
     "data": {
      "text/html": [
       "<div>\n",
       "<style scoped>\n",
       "    .dataframe tbody tr th:only-of-type {\n",
       "        vertical-align: middle;\n",
       "    }\n",
       "\n",
       "    .dataframe tbody tr th {\n",
       "        vertical-align: top;\n",
       "    }\n",
       "\n",
       "    .dataframe thead th {\n",
       "        text-align: right;\n",
       "    }\n",
       "</style>\n",
       "<table border=\"1\" class=\"dataframe\">\n",
       "  <thead>\n",
       "    <tr style=\"text-align: right;\">\n",
       "      <th></th>\n",
       "      <th>ride_id</th>\n",
       "      <th>travel_date</th>\n",
       "      <th>travel_time</th>\n",
       "      <th>travel_from</th>\n",
       "      <th>car_type</th>\n",
       "      <th>max_capacity</th>\n",
       "      <th>number_of_tickets</th>\n",
       "    </tr>\n",
       "  </thead>\n",
       "  <tbody>\n",
       "    <tr>\n",
       "      <th>0</th>\n",
       "      <td>1442</td>\n",
       "      <td>17-10-17</td>\n",
       "      <td>7:15</td>\n",
       "      <td>Migori</td>\n",
       "      <td>Bus</td>\n",
       "      <td>49</td>\n",
       "      <td>1.0</td>\n",
       "    </tr>\n",
       "    <tr>\n",
       "      <th>1</th>\n",
       "      <td>5437</td>\n",
       "      <td>19-11-17</td>\n",
       "      <td>7:12</td>\n",
       "      <td>Migori</td>\n",
       "      <td>Bus</td>\n",
       "      <td>49</td>\n",
       "      <td>1.0</td>\n",
       "    </tr>\n",
       "    <tr>\n",
       "      <th>2</th>\n",
       "      <td>5710</td>\n",
       "      <td>26-11-17</td>\n",
       "      <td>7:05</td>\n",
       "      <td>Keroka</td>\n",
       "      <td>Bus</td>\n",
       "      <td>49</td>\n",
       "      <td>1.0</td>\n",
       "    </tr>\n",
       "    <tr>\n",
       "      <th>3</th>\n",
       "      <td>5777</td>\n",
       "      <td>27-11-17</td>\n",
       "      <td>7:10</td>\n",
       "      <td>Homa Bay</td>\n",
       "      <td>Bus</td>\n",
       "      <td>49</td>\n",
       "      <td>5.0</td>\n",
       "    </tr>\n",
       "    <tr>\n",
       "      <th>4</th>\n",
       "      <td>5778</td>\n",
       "      <td>27-11-17</td>\n",
       "      <td>7:12</td>\n",
       "      <td>Migori</td>\n",
       "      <td>Bus</td>\n",
       "      <td>49</td>\n",
       "      <td>31.0</td>\n",
       "    </tr>\n",
       "  </tbody>\n",
       "</table>\n",
       "</div>"
      ],
      "text/plain": [
       "   ride_id travel_date travel_time travel_from car_type  max_capacity  \\\n",
       "0     1442    17-10-17        7:15      Migori      Bus            49   \n",
       "1     5437    19-11-17        7:12      Migori      Bus            49   \n",
       "2     5710    26-11-17        7:05      Keroka      Bus            49   \n",
       "3     5777    27-11-17        7:10    Homa Bay      Bus            49   \n",
       "4     5778    27-11-17        7:12      Migori      Bus            49   \n",
       "\n",
       "   number_of_tickets  \n",
       "0                1.0  \n",
       "1                1.0  \n",
       "2                1.0  \n",
       "3                5.0  \n",
       "4               31.0  "
      ]
     },
     "execution_count": 9,
     "metadata": {},
     "output_type": "execute_result"
    }
   ],
   "source": [
    "df_processed.head()"
   ]
  },
  {
   "cell_type": "code",
   "execution_count": 10,
   "metadata": {},
   "outputs": [],
   "source": [
    "df_processed.to_csv('train_aggregated.csv', index=False)"
   ]
  }
 ],
 "metadata": {
  "kernelspec": {
   "display_name": "Python 3",
   "language": "python",
   "name": "python3"
  },
  "language_info": {
   "codemirror_mode": {
    "name": "ipython",
    "version": 3
   },
   "file_extension": ".py",
   "mimetype": "text/x-python",
   "name": "python",
   "nbconvert_exporter": "python",
   "pygments_lexer": "ipython3",
   "version": "3.6.4"
  }
 },
 "nbformat": 4,
 "nbformat_minor": 2
}
